{
 "cells": [
  {
   "cell_type": "code",
   "execution_count": null,
   "id": "89e396d6",
   "metadata": {},
   "outputs": [],
   "source": [
    "def df2sqlite(dataframe, path_db=None, tbl_name=\"import\"):\n",
    "\n",
    "    '''The function df2sqlite converts a dataframe into a squlite database.\n",
    "    \n",
    "    Args:\n",
    "       dataframe (panda.DataFrame): the dataframe to convert in a data base\n",
    "       path_db (Path): full pathname of the database\n",
    "       tbl_name (str): name of the table\n",
    "    '''\n",
    "    \n",
    "    # Standard library imports\n",
    "    import sqlite3\n",
    "    \n",
    "    # 3rd party imports\n",
    "    import pandas as pd\n",
    "\n",
    "    if path_db is None:  # Connetion to the database\n",
    "        conn = sqlite3.connect(\":memory:\")\n",
    "    else:\n",
    "        conn = sqlite3.connect(path_db)\n",
    "        \n",
    "    # Creates a database and a table\n",
    "    cur = conn.cursor()\n",
    "    col_str = '\"' + '\",\"'.join(dataframe.columns) + '\"'\n",
    "    cur.execute(f\"CREATE TABLE IF NOT EXISTS {tbl_name} ({col_str})\")\n",
    "    dataframe.to_sql(tbl_name, conn, if_exists='replace', index = False)\n",
    "\n",
    "    #cols_type = \",\".join([\"?\"] * len(dataframe.columns))\n",
    "    #data = [tuple(x) for x in dataframe.values]\n",
    "    #cur.execute(f\"DROP TABLE IF EXISTS {tbl_name}\")\n",
    "    #col_str = '\"' + '\",\"'.join(dataframe.columns) + '\"'\n",
    "    #cur.execute(f\"CREATE TABLE {tbl_name} ({col_str})\")\n",
    "    #cur.executemany(f\"insert into {tbl_name} values ({cols_type})\", data)\n",
    "    #conn.commit()\n",
    "    cur.close()\n",
    "    conn.close()"
   ]
  },
  {
   "cell_type": "code",
   "execution_count": null,
   "id": "a9fbcba0",
   "metadata": {},
   "outputs": [],
   "source": [
    "# Standard librariy imports\n",
    "from pathlib import Path\n",
    "import sqlite3\n",
    "\n",
    "# 3rd party imports\n",
    "import pandas as pd\n",
    "\n",
    "# Database construction\n",
    "db_name = 'SAINTINES.db' # Database file name\n",
    "    \n",
    "db_path =   Path('c:\\Temp') / Path(db_name) # Database file name\n",
    "\n",
    "df = pd.read_excel(r'C:\\Users\\franc\\PVcharacterization_files\\Copie de Suivi des modules en enceinte.xlsx')\n",
    "df.columns = [x .replace(' ','_') for x in df.columns]\n",
    "tbl_name = 'essai'\n",
    "df2sqlite(df, path_db=db_path, tbl_name=tbl_name)\n",
    "\n",
    "# Query the database\n",
    "conn = sqlite3.connect(db_path)\n",
    "cur = conn.cursor()\n",
    "cur.execute('''  \n",
    "            SELECT PROJET,COUNT(*) how_many\n",
    "            FROM essai\n",
    "            WHERE (DATE_ENTREE >{})\n",
    "            GROUP BY PROJET\n",
    "          '''.format(\"'2020-10-29'\"))\n",
    "\n",
    "dict_query = {i:row for i, row in enumerate(cur.fetchall())}\n",
    "\n",
    "\n",
    "dg = pd.DataFrame.from_dict(dict_query).T\n",
    "#dg.columns = df.columns\n",
    "    \n",
    "cur.close()\n",
    "conn.close() \n",
    "dg"
   ]
  },
  {
   "cell_type": "code",
   "execution_count": null,
   "id": "cff64ee0",
   "metadata": {},
   "outputs": [],
   "source": []
  }
 ],
 "metadata": {
  "kernelspec": {
   "display_name": "PV_DB_m",
   "language": "python",
   "name": "pv_db_m"
  },
  "language_info": {
   "codemirror_mode": {
    "name": "ipython",
    "version": 3
   },
   "file_extension": ".py",
   "mimetype": "text/x-python",
   "name": "python",
   "nbconvert_exporter": "python",
   "pygments_lexer": "ipython3",
   "version": "3.9.7"
  },
  "latex_envs": {
   "LaTeX_envs_menu_present": true,
   "autoclose": false,
   "autocomplete": true,
   "bibliofile": "biblio.bib",
   "cite_by": "apalike",
   "current_citInitial": 1,
   "eqLabelWithNumbers": true,
   "eqNumInitial": 1,
   "hotkeys": {
    "equation": "Ctrl-E",
    "itemize": "Ctrl-I"
   },
   "labels_anchors": false,
   "latex_user_defs": false,
   "report_style_numbering": false,
   "user_envs_cfg": false
  },
  "varInspector": {
   "cols": {
    "lenName": 16,
    "lenType": 16,
    "lenVar": 40
   },
   "kernels_config": {
    "python": {
     "delete_cmd_postfix": "",
     "delete_cmd_prefix": "del ",
     "library": "var_list.py",
     "varRefreshCmd": "print(var_dic_list())"
    },
    "r": {
     "delete_cmd_postfix": ") ",
     "delete_cmd_prefix": "rm(",
     "library": "var_list.r",
     "varRefreshCmd": "cat(var_dic_list()) "
    }
   },
   "types_to_exclude": [
    "module",
    "function",
    "builtin_function_or_method",
    "instance",
    "_Feature"
   ],
   "window_display": false
  }
 },
 "nbformat": 4,
 "nbformat_minor": 5
}
