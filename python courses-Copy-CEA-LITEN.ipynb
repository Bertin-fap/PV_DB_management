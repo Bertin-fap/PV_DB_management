{
 "cells": [
  {
   "cell_type": "markdown",
   "metadata": {},
   "source": [
    "<a id='plan'></a>\n",
    "# Plan\n",
    "\n",
    "### Learn python \n",
    "1. [Ressources](#ressources)\n",
    "\n",
    "\n",
    "### Introduction\n",
    "1. [Python keywords](#keywords)\n",
    "2. [Operators](#operators)\n",
    "3. [Built-in functions](#functions)\n",
    "4. [Python standard Library](#standard)\n",
    "5. [Python packages](#packages)\n",
    "6. [Étapes du développement d'un projet](#project)\n",
    "\n",
    "### Jupyter notebook\n",
    "1. [Référence](#jupyter)"
   ]
  },
  {
   "cell_type": "markdown",
   "metadata": {},
   "source": [
    "<a id='ressources'></a>\n",
    "# Learn python ressources\n",
    "1. https://quantecon.org/lectures/index....\n",
    "2. https://automatetheboringstuff.com/\n",
    "3. https://pbpython.com/\n",
    "4. https://hackersandslackers.com/\n",
    "5. https://www.youtube.com/c/Coreyms\n",
    "6. https://www.youtube.com/user/dataschool\n",
    "7. https://www.pythoncheatsheet.org/ \n",
    "8. https://wiki.python.org/moin/\n",
    "\n",
    "[Retour au plan](#plan)"
   ]
  },
  {
   "cell_type": "markdown",
   "metadata": {},
   "source": [
    "<a id='keywords'></a>\n",
    "# Python keywords\n",
    "**36** keywords and, as, if, else, elif, raise, True, False, None, ...\n",
    "## Pour en savoir plus\n",
    "- [Real python](https://realpython.com/python-keywords/#:~:text=Python%20Keywords%20and%20Their%20Usage%201%20Value%20Keywords%3A,Keywords%3A%20import%2C%20from%2C%20as.%20...%20More%20items...%20)\n",
    "\n",
    "[Retour au plan](#plan)"
   ]
  },
  {
   "cell_type": "code",
   "execution_count": 3,
   "metadata": {},
   "outputs": [
    {
     "name": "stdout",
     "output_type": "stream",
     "text": [
      "         0: False\n",
      "         1: None\n",
      "         2: True\n",
      "         3: __peg_parser__\n",
      "         4: and\n",
      "         5: as\n",
      "         6: assert\n",
      "         7: async\n",
      "         8: await\n",
      "         9: break\n",
      "        10: class\n",
      "        11: continue\n",
      "        12: def\n",
      "        13: del\n",
      "        14: elif\n",
      "        15: else\n",
      "        16: except\n",
      "        17: finally\n",
      "        18: for\n",
      "        19: from\n",
      "        20: global\n",
      "        21: if\n",
      "        22: import\n",
      "        23: in\n",
      "        24: is\n",
      "        25: lambda\n",
      "        26: nonlocal\n",
      "        27: not\n",
      "        28: or\n",
      "        29: pass\n",
      "        30: raise\n",
      "        31: return\n",
      "        32: try\n",
      "        33: while\n",
      "        34: with\n",
      "        35: yield\n"
     ]
    }
   ],
   "source": [
    "# Standard Library import\n",
    "import keyword\n",
    "\n",
    "for i, key_word in enumerate(keyword.kwlist):\n",
    "    print(f'{str(i).rjust(10)}: {key_word}')"
   ]
  },
  {
   "cell_type": "code",
   "execution_count": 4,
   "metadata": {},
   "outputs": [
    {
     "name": "stdout",
     "output_type": "stream",
     "text": [
      "YES, \"if\" is a keyword.\n",
      "YES, \"None\" is a keyword.\n",
      "NO , \"trarmiz\" is not a keyword.\n",
      "YES, \"True\" is a keyword.\n",
      "NO , \"TRUE\" is not a keyword.\n",
      "NO , \"list\" is not a keyword.\n",
      "NO , \"max\" is not a keyword.\n",
      "YES, \"not\" is a keyword.\n",
      "YES, \"or\" is a keyword.\n",
      "YES, \"and\" is a keyword.\n"
     ]
    }
   ],
   "source": [
    "list_my_keywords = [\"if\",\"None\",\"trarmiz\",\"True\",\"TRUE\",\"list\",\"max\",\"not\",\"or\",\"and\"]\n",
    "\n",
    "for my_keyword in list_my_keywords:\n",
    "    if keyword.iskeyword(my_keyword):\n",
    "        print(f'YES, \"{my_keyword}\" is a keyword.')\n",
    "    else:\n",
    "        print(f'NO , \"{my_keyword}\" is not a keyword.')"
   ]
  },
  {
   "cell_type": "markdown",
   "metadata": {},
   "source": [
    "<a id='operators'></a>\n",
    "## Operators\n",
    "1. Arithmetic Operators +, - , \\*, /, %, //, \\**\n",
    "2. Comparison Operators ==, !=, <, >, <=, >=\n",
    "3. Logical Operators not, or, and\n",
    "4. Bitwise Operators &, |, ~, ^, >>, <<\n",
    "5. Slicing operator []\n",
    "\n",
    "\n",
    "[Retour au plan](#plan)"
   ]
  },
  {
   "cell_type": "code",
   "execution_count": 5,
   "metadata": {},
   "outputs": [
    {
     "name": "stdout",
     "output_type": "stream",
     "text": [
      "the remainder of 9 / 4 = 1\n",
      "9 mod 4 = 2\n"
     ]
    }
   ],
   "source": [
    "'''Division modulo and division remainder\n",
    "'''\n",
    "x = 9\n",
    "mod = 4\n",
    "print(f'the remainder of {x} / {mod} = {x % 4}')\n",
    "print(f'{x} mod {mod} = {x // 4}')"
   ]
  },
  {
   "cell_type": "code",
   "execution_count": 6,
   "metadata": {},
   "outputs": [
    {
     "name": "stdout",
     "output_type": "stream",
     "text": [
      "True\n",
      "False\n",
      "False False False False\n",
      "number of trues 2\n",
      "x is falsy !!!\n",
      "y is truthy !!!\n",
      "z is empty !!!!\n"
     ]
    }
   ],
   "source": [
    "'''\n",
    "Exemples d'opérateurs booléens et de comparaison.\n",
    "falsy and truthy objects\n",
    "'''\n",
    "x = 0\n",
    "y = 1\n",
    "z = []\n",
    "print(x < 10 or callable(x))\n",
    "print(bool([])) # truthy or falsy\n",
    "print(bool([]),bool(''),bool({}),bool(0))\n",
    "print(f'number of trues {True + True}')\n",
    "if not x:\n",
    "    print('x is falsy !!!')\n",
    "if y:\n",
    "    print('y is truthy !!!')\n",
    "if z :\n",
    "    print(z)\n",
    "else:\n",
    "    print('z is empty !!!!')"
   ]
  },
  {
   "cell_type": "code",
   "execution_count": 7,
   "metadata": {},
   "outputs": [
    {
     "name": "stdout",
     "output_type": "stream",
     "text": [
      "2048\n",
      "0b1100\n",
      "0b1111\n",
      "0b  -1\n",
      "0b-100\n"
     ]
    }
   ],
   "source": [
    "'''Binary operation examples\n",
    "'''\n",
    "print(2<<10)\n",
    "print(f'0b{0b0011 << 2:4b}')\n",
    "print(f'0b{0b0011 ^ 0b1100:4b}')\n",
    "print(f'0b{~(0b0011 & 0b1100):4b}') # Beware we obtain a negative number. Could you explain why ?\n",
    "print(f'0b{~0b0011 :4b}') # Beware we obtain a negative number. Could you explain why ?"
   ]
  },
  {
   "cell_type": "code",
   "execution_count": 8,
   "metadata": {},
   "outputs": [
    {
     "name": "stdout",
     "output_type": "stream",
     "text": [
      "[50, 70, 30, 20, 90, 10, 50]\n",
      "[50, 10, 90, 20, 30, 70, 50]\n",
      "[50, 90, 30]\n",
      "[70, 90]\n"
     ]
    }
   ],
   "source": [
    "'''The slicing operator\n",
    "Slicing a 1D list\n",
    "'''\n",
    "Lst = [50, 70, 30, 20, 90, 10, 50]\n",
    " \n",
    "print(Lst[::]) # print the list\n",
    "print(Lst[::-1]) # print the reversed list\n",
    "print(Lst[-1:-6:-2])\n",
    "deb = 1\n",
    "end = len(Lst) + 1\n",
    "step = 3\n",
    "\n",
    "print(Lst[deb:end:step])"
   ]
  },
  {
   "cell_type": "code",
   "execution_count": 9,
   "metadata": {},
   "outputs": [
    {
     "name": "stdout",
     "output_type": "stream",
     "text": [
      "[[37 70 22 55 76 90  7 30 76]\n",
      " [63 68 52 59 99 88 19 29 74]\n",
      " [78  8 23 74 20 77 38 76 87]\n",
      " [74 11 52 35 59  4 50 58 93]\n",
      " [91 35 91  4 73 80 75 25 98]]\n",
      "\n",
      "[[90  7 30 76]\n",
      " [88 19 29 74]\n",
      " [77 38 76 87]\n",
      " [ 4 50 58 93]\n",
      " [80 75 25 98]]\n",
      "\n",
      "[[52 68 63]\n",
      " [52 11 74]]\n"
     ]
    }
   ],
   "source": [
    "'''The slicing operator\n",
    "Slicing a 2D list\n",
    "'''\n",
    "import numpy as np\n",
    "\n",
    "array = np.random.randint(1,101,(5,9))\n",
    "print(array)\n",
    "print()\n",
    "print(array[:,5:])\n",
    "print()\n",
    "print(array[1:5:2,2::-1])"
   ]
  },
  {
   "cell_type": "code",
   "execution_count": 10,
   "metadata": {},
   "outputs": [
    {
     "name": "stdout",
     "output_type": "stream",
     "text": [
      "[[[ 43  95  16  41  13   1  22  71  44  93]\n",
      "  [ 63  41  31  43  57  15  29  94  26  44]\n",
      "  [ 10  79  31  25  70  78  88  79  19  44]\n",
      "  [ 67  99   7  42  14  43  47  15  21  42]\n",
      "  [  6  54  26  69  58  61  70  69  26  81]\n",
      "  [ 91  77  31  20  55  27  61  62  65  24]\n",
      "  [ 20  64  41  31 100  33  91  95  72  36]\n",
      "  [  7  78  66  95  80  16  47  83  45  47]\n",
      "  [ 61  70  70  87  78  60  95  46  58  94]\n",
      "  [ 37  79  47  82  64  68  64   2  60  22]]\n",
      "\n",
      " [[ 15  71   1  47   5   6  74  23  35  29]\n",
      "  [ 55  61  86  45  29  29   3  76  91  52]\n",
      "  [ 58  94  15  75   5  60  51  56  13  37]\n",
      "  [ 64  41   6  40  62  52   4  96  73  83]\n",
      "  [ 43  73  39  46  39  59  52   5  38  34]\n",
      "  [ 31  47  76 100  90   7  35  54  75  62]\n",
      "  [ 96  72  40  49  72  34  20  11  51  26]\n",
      "  [ 48   1   3  92  63  34  11  62  37   1]\n",
      "  [ 95  42  27  36  80  34  82  56  13  91]\n",
      "  [ 59  49  17  80  61   6  25  76  18  55]]\n",
      "\n",
      " [[ 85  67  83  50  92  60  44  54  48  65]\n",
      "  [ 29   6  43   5  57  65  78  95  77  33]\n",
      "  [  1   8  14   4  74  58  44  43  84   9]\n",
      "  [ 18  94   5  56  65  56  22  66  77  84]\n",
      "  [ 82  68  93  99  17  85  85  98  69  14]\n",
      "  [ 22  76  24   2  18  33  10  37  38  50]\n",
      "  [ 46  24  90  11  63  49  96  23   1  85]\n",
      "  [ 78  14  36  38  98  40  79  48  78  61]\n",
      "  [ 18  30  71  29  57  42  33   2  82  26]\n",
      "  [ 99  59  52  84  61  58  65  42  75  83]]\n",
      "\n",
      " [[ 19  52  10  75  45   6  42  79  27  93]\n",
      "  [ 22  26  12   3  30  95   5  45  32  65]\n",
      "  [ 44  58   1  31  97  59  52  73  63  58]\n",
      "  [  5  68   8  72  82  97  64  13   3   9]\n",
      "  [ 79  48  15  31  72  59  39  59  91  55]\n",
      "  [ 50  33  31  29  88  20 100  23  97  91]\n",
      "  [ 67  67   7  73  63  99  96  89  13  12]\n",
      "  [ 46  88  54  24  11  13  48  49  65  90]\n",
      "  [ 64  19  21  38  13  53  60  33  30  97]\n",
      "  [ 97  88  99  19  82  93  41  15  46  24]]\n",
      "\n",
      " [[ 47  47  76  45  19  63  57  45   2  89]\n",
      "  [ 69  32 100   1  91  88  19  29  93  79]\n",
      "  [ 53  48  75  49  28   6  74  57  42  79]\n",
      "  [ 86  15  92  37  72   9  34  63  44   6]\n",
      "  [ 33  25  13  65  56  64  13  99  36  95]\n",
      "  [ 27   5  74  28  10  49  93  85  76  78]\n",
      "  [  1  36  99  52  38  81  49  74  75  65]\n",
      "  [ 75  52  70   1  42   1   2  96  19   4]\n",
      "  [ 91  20  33  40  15  87  23  45  69  55]\n",
      "  [ 45  16  41  42   5  73  26  21  41   8]]\n",
      "\n",
      " [[ 40  83  32  42  91  57  45  53  89  84]\n",
      "  [ 72  50  39  62  70  31  72  19  50  44]\n",
      "  [ 27  27  97  96  72  39   7   2  19  28]\n",
      "  [ 67 100  34  43   8  11  92  47  12  50]\n",
      "  [ 49  14  67  49  57  72  89  85  67  44]\n",
      "  [ 48  83  29  95  58  39  69  25  45  35]\n",
      "  [  9  21   2  33  97  29  45  42  53  23]\n",
      "  [ 19  15  47  34   1  30  80  61  70  33]\n",
      "  [ 10  55  78   2  22  73  89  17  71  49]\n",
      "  [100  18   6  17  42  74  39  20  25  64]]\n",
      "\n",
      " [[ 45  62  97  79  20  85  70  33  99  52]\n",
      "  [ 23  84  41  20  59  96  62  56  31  73]\n",
      "  [ 42   8  67  85  49   2  39  71  81  25]\n",
      "  [ 10  39  90  93  26   5  31  20  20  24]\n",
      "  [ 52   7  43  95  95  86  88  55  70  31]\n",
      "  [ 78  59  39  71   1   1  95  62  59  69]\n",
      "  [ 62  49  41  72  59  47  85  98  94  92]\n",
      "  [ 34  67  55   5  26  21  52  69  67  96]\n",
      "  [ 30  86  96  68  91  68   8   1  31  58]\n",
      "  [ 26  97  21   2  96  45  74  47  48  69]]\n",
      "\n",
      " [[ 13  30  81  61  45  11  30  10   3  95]\n",
      "  [ 43  78  99  13  46  92  78  16  61  25]\n",
      "  [ 29  34  46  46  27  71   6  83  17  64]\n",
      "  [ 64  25 100  20  81  16  12  38  22  21]\n",
      "  [ 15  98  93   2  44  94  51  23   2  93]\n",
      "  [ 68  74  29  46  87  42  78  87  80  69]\n",
      "  [ 65  90  78  26  80  31  71  40  54  72]\n",
      "  [ 99  49  60   9   5  48   8  37  18  11]\n",
      "  [  8  21  74  16  45  52  39  16  48  53]\n",
      "  [ 13  96  25  30   3  80  64  36  71  92]]\n",
      "\n",
      " [[ 58   6  94  87  51  17  48  15  19  10]\n",
      "  [ 82  81  18  80  30  13  49  44  73  54]\n",
      "  [ 86  84  98  26  35  49  38  43  97  64]\n",
      "  [ 34  81  26  35  71  35   9  75  13  21]\n",
      "  [ 71  15  21  22  47  47  87   1  24  60]\n",
      "  [  5  66  10  45  61  75 100  92  23  55]\n",
      "  [ 19 100  73  69  90  66  34  38  33  39]\n",
      "  [ 76  84  24  58  19  20  38  71  34  33]\n",
      "  [ 65  27  43  52  98  70  49  49  77  77]\n",
      "  [  9  11  48  16  40   4  13  81   9  29]]\n",
      "\n",
      " [[ 19  61  40  42  51  88  94  99  62  13]\n",
      "  [ 35  84  56  96  67  47  83  83  98  65]\n",
      "  [ 84  11  97  38  73   9  17  77   4  47]\n",
      "  [ 34  15  62  53  57  42  98  99  12  32]\n",
      "  [ 83  89  74  70  92  94  11  78  11  60]\n",
      "  [100  52  74  69  11   9  58  89  28  35]\n",
      "  [ 59  32  22  34  92  77  91  29  80  52]\n",
      "  [ 57  14   8   6  29  30  52  50  17  49]\n",
      "  [ 37  65  60  21  62  59  81  79  73 100]\n",
      "  [ 73   9  50  87   5  26   3  29  25  67]]]\n",
      "(10, 10, 10)\n",
      "[[[60.5  32.75 21.5  54.   51.75]\n",
      "  [63.75 26.25 51.25 57.25 31.5 ]\n",
      "  [57.   36.5  50.25 65.5  49.  ]\n",
      "  [42.25 58.25 57.25 79.   50.  ]\n",
      "  [61.75 71.5  67.5  51.75 58.5 ]]\n",
      "\n",
      " [[50.5  44.75 17.25 44.   51.75]\n",
      "  [64.25 34.   44.75 51.75 51.5 ]\n",
      "  [48.5  65.25 48.75 36.5  52.25]\n",
      "  [54.25 46.   50.75 26.   28.75]\n",
      "  [61.25 40.   45.25 59.75 44.25]]\n",
      "\n",
      " [[46.75 45.25 68.5  67.75 55.75]\n",
      "  [30.25 19.75 63.25 43.75 63.5 ]\n",
      "  [62.   54.5  38.25 57.5  42.75]\n",
      "  [40.5  43.75 62.5  61.5  56.25]\n",
      "  [51.5  59.   54.5  35.5  66.5 ]]\n",
      "\n",
      " [[29.75 25.   44.   42.75 54.25]\n",
      "  [43.75 28.   83.75 50.5  33.25]\n",
      "  [52.5  26.5  59.75 55.25 83.5 ]\n",
      "  [67.   39.5  46.5  70.5  45.  ]\n",
      "  [67.   44.25 60.25 37.25 49.25]]\n",
      "\n",
      " [[48.75 55.5  65.25 37.5  65.75]\n",
      "  [50.5  63.25 28.75 57.   42.75]\n",
      "  [22.5  45.   44.75 72.5  71.25]\n",
      "  [41.   55.5  40.5  55.25 40.75]\n",
      "  [43.   39.   45.   28.75 43.25]]\n",
      "\n",
      " [[61.25 43.75 62.25 47.25 66.75]\n",
      "  [55.25 67.5  32.5  37.   27.25]\n",
      "  [48.5  60.   56.5  67.   47.75]\n",
      "  [16.   29.   39.25 57.   44.75]\n",
      "  [45.75 25.75 52.75 41.25 52.25]]\n",
      "\n",
      " [[53.5  59.25 65.   55.25 63.75]\n",
      "  [24.75 83.75 20.5  40.25 37.5 ]\n",
      "  [49.   62.   45.75 75.   57.25]\n",
      "  [53.   43.25 38.25 76.   87.25]\n",
      "  [59.75 46.75 75.   32.5  51.5 ]]\n",
      "\n",
      " [[41.   63.5  48.5  33.5  46.  ]\n",
      "  [38.   53.   48.75 34.75 31.  ]\n",
      "  [63.75 42.5  66.75 59.75 61.  ]\n",
      "  [75.75 43.25 41.   39.   38.75]\n",
      "  [34.5  36.25 45.   38.75 66.  ]]\n",
      "\n",
      " [[56.75 69.75 27.75 39.   39.  ]\n",
      "  [71.25 46.25 47.5  41.25 48.75]\n",
      "  [39.25 24.5  57.5  70.   40.5 ]\n",
      "  [69.75 56.   48.75 45.25 34.75]\n",
      "  [28.   39.75 53.   48.   48.  ]]\n",
      "\n",
      " [[49.75 58.5  63.25 89.75 59.5 ]\n",
      "  [36.   62.5  45.25 72.75 23.75]\n",
      "  [81.   71.75 51.5  59.   33.5 ]\n",
      "  [40.5  17.5  57.   55.5  49.5 ]\n",
      "  [46.   54.5  38.   48.   66.25]]]\n"
     ]
    }
   ],
   "source": [
    "'''To summarize a very very very involved exemple !!!\n",
    "'''\n",
    "\n",
    "def binning(X,binx,biny):\n",
    "    '''Binning of 3D array X'''\n",
    "    if binx !=1 and biny !=1 :\n",
    "        assert(all([not(X.shape[1] % 2),\n",
    "                    not(X.shape[2] % 2)])), \"Invalid binning factor\"\n",
    "        X=np.array([np.array(x) for x in \n",
    "               [X[I,:,:].reshape(X.shape[1]//binx, binx, X.shape[2]//biny ,biny).mean(-1).mean(1) \n",
    "               for I in range(X.shape[0])] ])\n",
    "    return X\n",
    "\n",
    "import numpy as np\n",
    "\n",
    "array = np.random.randint(1,101,(10,10,10))\n",
    "print(array)\n",
    "print(np.shape(array))\n",
    "print(binning(array,2,2))"
   ]
  },
  {
   "cell_type": "code",
   "execution_count": 11,
   "metadata": {},
   "outputs": [
    {
     "name": "stdout",
     "output_type": "stream",
     "text": [
      "7181.784122942117 0.008532325425222883\n"
     ]
    }
   ],
   "source": [
    "'''The walrus operator (:=) with python 3.8\n",
    "'''\n",
    "\n",
    "from math import asin, cos, radians, sin, sqrt\n",
    "\n",
    "# Approximate radius of Earth in kilometers\n",
    "rad = 6371\n",
    "\n",
    "# Locations of Oslo and Vancouver\n",
    "ϕ1, λ1 = radians(59.9), radians(10.8) # We can use greek notations but dont use it !\n",
    "ϕ2, λ2 = radians(49.3), radians(-123.1)\n",
    "\n",
    "d =2 * rad * asin(\n",
    "     sqrt(\n",
    "         (ϕ_hav := sin((ϕ2 - ϕ1) / 2) ** 2)\n",
    "         + cos(ϕ1) * cos(ϕ2) * sin((λ2 - λ1) / 2) ** 2\n",
    "     )\n",
    " )\n",
    "print(d, ϕ_hav)"
   ]
  },
  {
   "cell_type": "markdown",
   "metadata": {},
   "source": [
    "<a id='functions'></a>\n",
    "## Built-in Functions\n",
    "Le coeur Python inclut **69** built-in functions. Pour leur description se référer au document standard [built in function](https://docs.python.org/3/library/functions.html) <br>\n",
    "On les appelle selon la syntaxe built_in_function**()**<br>\n",
    "\n",
    "[Retour au plan](#plan)"
   ]
  },
  {
   "cell_type": "code",
   "execution_count": 12,
   "metadata": {},
   "outputs": [
    {
     "name": "stdout",
     "output_type": "stream",
     "text": [
      "Hanandrana ny nahandro Malagasy i Pati😋\n",
      "\n",
      "Hello Pati\n"
     ]
    }
   ],
   "source": [
    "'''print() and chr() are two python built-in functions.\n",
    "\n",
    "'''\n",
    "print('Hanandrana ny nahandro Malagasy i Pati'+chr(128523))\n",
    "print()\n",
    "print('Hello Pati')"
   ]
  },
  {
   "cell_type": "code",
   "execution_count": 4,
   "metadata": {},
   "outputs": [
    {
     "name": "stdout",
     "output_type": "stream",
     "text": [
      "<class 'builtin_function_or_method'>\n"
     ]
    }
   ],
   "source": [
    "'''Print the type of the built-in function len() using the built-in fuctions print() and type().\n",
    "\n",
    "'''\n",
    "print(type(len))"
   ]
  },
  {
   "cell_type": "markdown",
   "metadata": {},
   "source": [
    "<a id='standard'></a>\n",
    "# Python standard library\n",
    "voir la [référence](https://docs.python.org/3/library/index.html) <br>\n",
    "par exemple math, cmath, tkinter, sqlite3 font pati de la bibliothèque standard<br>\n",
    "**Nécessitent un import**<br>\n",
    "\n",
    "## Pour en savoir plus\n",
    "- ouvage: \"The Python 3 Standard Library by Example by Doug Hellmann\" 1400 pages!!\n",
    "\n",
    "[Retour au plan](#plan)"
   ]
  },
  {
   "cell_type": "code",
   "execution_count": 13,
   "metadata": {},
   "outputs": [
    {
     "name": "stdout",
     "output_type": "stream",
     "text": [
      "rgb: (128, 255, 255), hex: #80ffff\n"
     ]
    }
   ],
   "source": [
    "'''Exemple du choix intératif d'une couleur\n",
    "'''\n",
    "import tkinter as tk\n",
    "from tkinter.colorchooser import askcolor\n",
    "from tkinter import ttk\n",
    "\n",
    "global colors\n",
    "\n",
    "root = tk.Tk()\n",
    "root.title('Tkinter Color Chooser')\n",
    "root.geometry('300x150')\n",
    "\n",
    "\n",
    "def change_color():\n",
    "    global colors\n",
    "    colors = askcolor(title=\"Tkinter Color Chooser\")\n",
    "    root.configure(bg=colors[1])\n",
    "\n",
    "\n",
    "ttk.Button(\n",
    "    root,\n",
    "    text='Select a Color',\n",
    "    command=change_color).pack(expand=True)\n",
    "\n",
    "\n",
    "root.mainloop()\n",
    "hex_col = colors[1]\n",
    "rgb_col = colors[0]\n",
    "print(f'rgb: {rgb_col}, hex: {hex_col}')"
   ]
  },
  {
   "cell_type": "markdown",
   "metadata": {},
   "source": [
    "<a id='packages'></a>\n",
    "# Python packages\n",
    "Ils sont soit internes soit externes :\n",
    "- internes: créés par le développeur et non encore distribués (non encore disponible pour la communauté des pythonistes via [PyPi](https://pypi.org/);\n",
    "- externes: disponibles sous [PyPi](https://pypi.org/) Python Packages Index;\n",
    "    - nécessitent une intallation à l'aide d'un gestionnaire de module **pip**, condas,...\n",
    "- nécessitent d'être importés.\n",
    "\n",
    "[Retour au plan](#plan)"
   ]
  },
  {
   "cell_type": "code",
   "execution_count": 14,
   "metadata": {},
   "outputs": [
    {
     "name": "stdout",
     "output_type": "stream",
     "text": [
      "Collecting matplotlib\n",
      "  Downloading matplotlib-3.5.0-cp39-cp39-win_amd64.whl (7.2 MB)\n",
      "Collecting fonttools>=4.22.0\n",
      "  Downloading fonttools-4.28.3-py3-none-any.whl (884 kB)\n",
      "Collecting pillow>=6.2.0\n",
      "  Using cached Pillow-8.4.0-cp39-cp39-win_amd64.whl (3.2 MB)\n",
      "Collecting cycler>=0.10\n",
      "  Using cached cycler-0.11.0-py3-none-any.whl (6.4 kB)\n",
      "Collecting numpy>=1.17\n",
      "  Using cached numpy-1.21.4-cp39-cp39-win_amd64.whl (14.0 MB)\n",
      "Requirement already satisfied: pyparsing>=2.2.1 in c:\\users\\franc\\pyvenv\\pv_db_management\\venv\\lib\\site-packages (from matplotlib) (3.0.6)\n",
      "Requirement already satisfied: python-dateutil>=2.7 in c:\\users\\franc\\pyvenv\\pv_db_management\\venv\\lib\\site-packages (from matplotlib) (2.8.2)\n",
      "Collecting kiwisolver>=1.0.1\n",
      "  Using cached kiwisolver-1.3.2-cp39-cp39-win_amd64.whl (52 kB)\n",
      "Requirement already satisfied: packaging>=20.0 in c:\\users\\franc\\pyvenv\\pv_db_management\\venv\\lib\\site-packages (from matplotlib) (21.3)\n",
      "Collecting setuptools-scm>=4\n",
      "  Downloading setuptools_scm-6.3.2-py3-none-any.whl (33 kB)\n",
      "Requirement already satisfied: six>=1.5 in c:\\users\\franc\\pyvenv\\pv_db_management\\venv\\lib\\site-packages (from python-dateutil>=2.7->matplotlib) (1.16.0)\n",
      "Requirement already satisfied: setuptools in c:\\users\\franc\\pyvenv\\pv_db_management\\venv\\lib\\site-packages (from setuptools-scm>=4->matplotlib) (57.4.0)\n",
      "Collecting tomli>=1.0.0\n",
      "  Downloading tomli-1.2.2-py3-none-any.whl (12 kB)\n",
      "Installing collected packages: tomli, setuptools-scm, pillow, numpy, kiwisolver, fonttools, cycler, matplotlib\n",
      "Successfully installed cycler-0.11.0 fonttools-4.28.3 kiwisolver-1.3.2 matplotlib-3.5.0 numpy-1.21.4 pillow-8.4.0 setuptools-scm-6.3.2 tomli-1.2.2\n"
     ]
    },
    {
     "name": "stderr",
     "output_type": "stream",
     "text": [
      "WARNING: You are using pip version 21.2.3; however, version 21.3.1 is available.\n",
      "You should consider upgrading via the 'c:\\Users\\franc\\PyVenv\\PV_DB_management\\venv\\Scripts\\python.exe -m pip install --upgrade pip' command.\n"
     ]
    }
   ],
   "source": [
    "'''Installation du package externe matplotlib.\n",
    "\n",
    "'''\n",
    "\n",
    "!pip install matplotlib"
   ]
  },
  {
   "cell_type": "code",
   "execution_count": 15,
   "metadata": {},
   "outputs": [
    {
     "data": {
      "image/png": "[encoded data removed]",
      "text/plain": [
       "<Figure size 432x288 with 1 Axes>"
      ]
     },
     "metadata": {
      "needs_background": "light"
     },
     "output_type": "display_data"
    }
   ],
   "source": [
    "'''Exemples d'utilisation de packages standard (math) et externe (matplotlib.pyplot).\n",
    "   syntaxe : nom_package.nom_méthode(paramètres)\n",
    "\n",
    "'''\n",
    "\n",
    "# Standard libray import\n",
    "import math\n",
    "\n",
    "# 3rd party import\n",
    "import matplotlib.pyplot as plt\n",
    "\n",
    "N = 100\n",
    "x = list(range(N))\n",
    "y = [math.sin(t*math.pi/N) for t in x]\n",
    "\n",
    "plt.plot(x,y,c='#8F833A')\n",
    "plt.show()"
   ]
  },
  {
   "cell_type": "code",
   "execution_count": 16,
   "metadata": {},
   "outputs": [
    {
     "name": "stdout",
     "output_type": "stream",
     "text": [
      "         0: False\n",
      "         1: None\n",
      "         2: True\n",
      "         3: __peg_parser__\n",
      "         4: and\n",
      "         5: as\n",
      "         6: assert\n",
      "         7: async\n",
      "         8: await\n",
      "         9: break\n",
      "        10: class\n",
      "        11: continue\n",
      "        12: def\n",
      "        13: del\n",
      "        14: elif\n",
      "        15: else\n",
      "        16: except\n",
      "        17: finally\n",
      "        18: for\n",
      "        19: from\n",
      "        20: global\n",
      "        21: if\n",
      "        22: import\n",
      "        23: in\n",
      "        24: is\n",
      "        25: lambda\n",
      "        26: nonlocal\n",
      "        27: not\n",
      "        28: or\n",
      "        29: pass\n",
      "        30: raise\n",
      "        31: return\n",
      "        32: try\n",
      "        33: while\n",
      "        34: with\n",
      "        35: yield\n",
      "YES, if is a keyword\n",
      "YES, None is a keyword\n"
     ]
    }
   ],
   "source": [
    "'''Example of nasty bug recasting of keyword package. Use keyword package name as variable name\n",
    "\n",
    "'''\n",
    "\n",
    "# Standard Library import\n",
    "import keyword\n",
    "\n",
    "for i, key_word in enumerate(keyword.kwlist): #Ho my gosh you recast keyword !!!\n",
    "    print(f'{str(i).rjust(10)}: {key_word}')\n",
    "\n",
    "\n",
    "list_my_keywords = [\"if\",\"None\",\"trarmiz\"]\n",
    "\n",
    "for my_keyword in list_my_keywords:\n",
    "    if keyword.iskeyword(my_keyword):\n",
    "        print(f'YES, {my_keyword} is a keyword')"
   ]
  },
  {
   "cell_type": "markdown",
   "metadata": {},
   "source": [
    "<a id='project'></a>\n",
    "# Étapes du développement d'un projet\n",
    "- définir les objectifs et une architecture\n",
    "- écritures de snippets\n",
    "- rationalisation \n",
    "  - [refactoring](https://www.youtube.com/watch?v=D_6ybDcU5gc)\n",
    "  - renommer les variables, éclater en fonctions, classes...\n",
    "  - écriture de [docstring](https://www.python.org/dev/peps/pep-0257/) succints\n",
    "  - création de packages\n",
    "  - respect de la norme   [PEP8]( https://www.python.org/dev/peps/pep-0008/)\n",
    "  - écrire un/des gui(s)\n",
    "- documenter\n",
    "  - [retravailler les docstrings](https://queirozf.com/entries/python-docstrings-reference-examples)\n",
    "  - générer un document Spinx\n",
    "  - diffuser sur [PyPI](https://pypi.org/)\n",
    "    \n",
    "## Pour en savoir plus\n",
    "    - Ouvrage \"Effective Python: 90 Specific Ways to Write Better Python (Brett Slatkin)\"\n",
    "    \n",
    "[Retour au plan](#plan)"
   ]
  },
  {
   "cell_type": "markdown",
   "metadata": {},
   "source": [
    "<a id='jupyter'></a>\n",
    "## Learn Jupyter\n",
    "[Ipython and Jupyter in DEpth](https://www.youtube.com/watch?v=hgiNlxUN2V0)\n",
    "\n",
    "[Retour au plan](#plan)\n"
   ]
  }
 ],
 "metadata": {
  "kernelspec": {
   "display_name": "PVcharacterization",
   "language": "python",
   "name": "pvcharacterization"
  },
  "language_info": {
   "codemirror_mode": {
    "name": "ipython",
    "version": 3
   },
   "file_extension": ".py",
   "mimetype": "text/x-python",
   "name": "python",
   "nbconvert_exporter": "python",
   "pygments_lexer": "ipython3",
   "version": "3.9.7"
  },
  "latex_envs": {
   "LaTeX_envs_menu_present": true,
   "autoclose": false,
   "autocomplete": true,
   "bibliofile": "biblio.bib",
   "cite_by": "apalike",
   "current_citInitial": 1,
   "eqLabelWithNumbers": true,
   "eqNumInitial": 1,
   "hotkeys": {
    "equation": "Ctrl-E",
    "itemize": "Ctrl-I"
   },
   "labels_anchors": false,
   "latex_user_defs": false,
   "report_style_numbering": false,
   "user_envs_cfg": false
  },
  "varInspector": {
   "cols": {
    "lenName": 16,
    "lenType": 16,
    "lenVar": 40
   },
   "kernels_config": {
    "python": {
     "delete_cmd_postfix": "",
     "delete_cmd_prefix": "del ",
     "library": "var_list.py",
     "varRefreshCmd": "print(var_dic_list())"
    },
    "r": {
     "delete_cmd_postfix": ") ",
     "delete_cmd_prefix": "rm(",
     "library": "var_list.r",
     "varRefreshCmd": "cat(var_dic_list()) "
    }
   },
   "types_to_exclude": [
    "module",
    "function",
    "builtin_function_or_method",
    "instance",
    "_Feature"
   ],
   "window_display": false
  }
 },
 "nbformat": 4,
 "nbformat_minor": 4
}
